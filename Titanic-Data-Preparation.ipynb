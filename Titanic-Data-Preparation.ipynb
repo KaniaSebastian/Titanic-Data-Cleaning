{
 "cells": [
  {
   "cell_type": "markdown",
   "metadata": {},
   "source": [
    "# Wstęp\n",
    "Dany jest zbiór TitanicMess.tsv, który zawiera dane dotyczące pasażerów podróżujących statkiem Titanic w dniu jego katastrofy. Chcąc przystąpić do analizy takiego zbioru należy jednak najpierw sprawdzić, czy dane występują w takiej postaci jakiej oczekujemy. Może wystąpić szereg nieprawidłowości, które należy wyeliminować, aby możliwa była praca ze zbiorem. \n",
    "Pierwszym zadaniem do wykonania będzie więc znalezienie wszelkich nieprawdiłowości. Następnie nieprawidłowości te zostaną wyeliminowane."
   ]
  },
  {
   "cell_type": "markdown",
   "metadata": {},
   "source": [
    "# Analiza zbioru"
   ]
  },
  {
   "cell_type": "code",
   "execution_count": 1,
   "metadata": {},
   "outputs": [],
   "source": [
    "# import bibliotek\n",
    "\n",
    "import pandas as pd\n",
    "import numpy as np\n",
    "from scipy import stats\n",
    "from pandas.api.types import is_string_dtype\n",
    "from pandas.api.types import is_numeric_dtype\n",
    "import re"
   ]
  },
  {
   "cell_type": "code",
   "execution_count": 2,
   "metadata": {
    "scrolled": true
   },
   "outputs": [
    {
     "data": {
      "text/html": [
       "<div>\n",
       "<style scoped>\n",
       "    .dataframe tbody tr th:only-of-type {\n",
       "        vertical-align: middle;\n",
       "    }\n",
       "\n",
       "    .dataframe tbody tr th {\n",
       "        vertical-align: top;\n",
       "    }\n",
       "\n",
       "    .dataframe thead th {\n",
       "        text-align: right;\n",
       "    }\n",
       "</style>\n",
       "<table border=\"1\" class=\"dataframe\">\n",
       "  <thead>\n",
       "    <tr style=\"text-align: right;\">\n",
       "      <th></th>\n",
       "      <th>PassengerId</th>\n",
       "      <th>Survived</th>\n",
       "      <th>Pclass</th>\n",
       "      <th>Name</th>\n",
       "      <th>Sex</th>\n",
       "      <th>Age</th>\n",
       "      <th>SibSp</th>\n",
       "      <th>Parch</th>\n",
       "      <th>Ticket</th>\n",
       "      <th>Fare</th>\n",
       "      <th>Cabin</th>\n",
       "      <th>Embarked</th>\n",
       "      <th>ship</th>\n",
       "    </tr>\n",
       "  </thead>\n",
       "  <tbody>\n",
       "    <tr>\n",
       "      <th>0</th>\n",
       "      <td>1</td>\n",
       "      <td>0</td>\n",
       "      <td>3</td>\n",
       "      <td>Braund, Mr. Owen Harris</td>\n",
       "      <td>male</td>\n",
       "      <td>22</td>\n",
       "      <td>1</td>\n",
       "      <td>0</td>\n",
       "      <td>A/5 21171</td>\n",
       "      <td>7,25</td>\n",
       "      <td>NaN</td>\n",
       "      <td>S</td>\n",
       "      <td>Titanic</td>\n",
       "    </tr>\n",
       "    <tr>\n",
       "      <th>1</th>\n",
       "      <td>2</td>\n",
       "      <td>1</td>\n",
       "      <td>1</td>\n",
       "      <td>Cumings, Mrs. John Bradley (Florence Briggs Th...</td>\n",
       "      <td>female</td>\n",
       "      <td>38</td>\n",
       "      <td>1</td>\n",
       "      <td>0</td>\n",
       "      <td>PC 17599</td>\n",
       "      <td>71,2833</td>\n",
       "      <td>C85</td>\n",
       "      <td>C</td>\n",
       "      <td>Titanic</td>\n",
       "    </tr>\n",
       "    <tr>\n",
       "      <th>2</th>\n",
       "      <td>3</td>\n",
       "      <td>1</td>\n",
       "      <td>3</td>\n",
       "      <td>Heikkinen, Miss. Laina</td>\n",
       "      <td>female</td>\n",
       "      <td>26</td>\n",
       "      <td>0</td>\n",
       "      <td>0</td>\n",
       "      <td>STON/O2. 3101282</td>\n",
       "      <td>7,925</td>\n",
       "      <td>NaN</td>\n",
       "      <td>S</td>\n",
       "      <td>Titanic</td>\n",
       "    </tr>\n",
       "    <tr>\n",
       "      <th>3</th>\n",
       "      <td>4</td>\n",
       "      <td>1</td>\n",
       "      <td>1</td>\n",
       "      <td>Futrelle, Mrs. Jacques Heath (Lily May Peel)</td>\n",
       "      <td>female</td>\n",
       "      <td>35</td>\n",
       "      <td>1</td>\n",
       "      <td>0</td>\n",
       "      <td>113803</td>\n",
       "      <td>53,1</td>\n",
       "      <td>C123</td>\n",
       "      <td>S</td>\n",
       "      <td>Titanic</td>\n",
       "    </tr>\n",
       "    <tr>\n",
       "      <th>4</th>\n",
       "      <td>5</td>\n",
       "      <td>0</td>\n",
       "      <td>3</td>\n",
       "      <td>Allen, Mr. William Henry</td>\n",
       "      <td>male</td>\n",
       "      <td>35</td>\n",
       "      <td>0</td>\n",
       "      <td>0</td>\n",
       "      <td>373450</td>\n",
       "      <td>8,05</td>\n",
       "      <td>NaN</td>\n",
       "      <td>S</td>\n",
       "      <td>Titanic</td>\n",
       "    </tr>\n",
       "  </tbody>\n",
       "</table>\n",
       "</div>"
      ],
      "text/plain": [
       "   PassengerId  Survived  Pclass  \\\n",
       "0            1         0       3   \n",
       "1            2         1       1   \n",
       "2            3         1       3   \n",
       "3            4         1       1   \n",
       "4            5         0       3   \n",
       "\n",
       "                                                Name     Sex Age  SibSp  \\\n",
       "0                            Braund, Mr. Owen Harris    male  22      1   \n",
       "1  Cumings, Mrs. John Bradley (Florence Briggs Th...  female  38      1   \n",
       "2                             Heikkinen, Miss. Laina  female  26      0   \n",
       "3       Futrelle, Mrs. Jacques Heath (Lily May Peel)  female  35      1   \n",
       "4                           Allen, Mr. William Henry    male  35      0   \n",
       "\n",
       "   Parch            Ticket     Fare Cabin Embarked     ship  \n",
       "0      0         A/5 21171     7,25   NaN        S  Titanic  \n",
       "1      0          PC 17599  71,2833   C85        C  Titanic  \n",
       "2      0  STON/O2. 3101282    7,925   NaN        S  Titanic  \n",
       "3      0            113803     53,1  C123        S  Titanic  \n",
       "4      0            373450     8,05   NaN        S  Titanic  "
      ]
     },
     "execution_count": 2,
     "metadata": {},
     "output_type": "execute_result"
    }
   ],
   "source": [
    "# wczytanie zbioru i wyświetlenie jego pierwszych rekordów\n",
    "\n",
    "df = pd.read_csv(r\"TitanicMess.tsv\", sep=\"\\t\")\n",
    "df.head()"
   ]
  },
  {
   "cell_type": "markdown",
   "metadata": {},
   "source": [
    "### Duplikaty danych\n",
    "\n",
    "Sprawdźmy czy dane nie zawierają duplikatów."
   ]
  },
  {
   "cell_type": "code",
   "execution_count": 3,
   "metadata": {
    "scrolled": true
   },
   "outputs": [
    {
     "data": {
      "text/html": [
       "<div>\n",
       "<style scoped>\n",
       "    .dataframe tbody tr th:only-of-type {\n",
       "        vertical-align: middle;\n",
       "    }\n",
       "\n",
       "    .dataframe tbody tr th {\n",
       "        vertical-align: top;\n",
       "    }\n",
       "\n",
       "    .dataframe thead th {\n",
       "        text-align: right;\n",
       "    }\n",
       "</style>\n",
       "<table border=\"1\" class=\"dataframe\">\n",
       "  <thead>\n",
       "    <tr style=\"text-align: right;\">\n",
       "      <th></th>\n",
       "      <th>PassengerId</th>\n",
       "      <th>Survived</th>\n",
       "      <th>Pclass</th>\n",
       "      <th>Name</th>\n",
       "      <th>Sex</th>\n",
       "      <th>Age</th>\n",
       "      <th>SibSp</th>\n",
       "      <th>Parch</th>\n",
       "      <th>Ticket</th>\n",
       "      <th>Fare</th>\n",
       "      <th>Cabin</th>\n",
       "      <th>Embarked</th>\n",
       "      <th>ship</th>\n",
       "    </tr>\n",
       "  </thead>\n",
       "  <tbody>\n",
       "    <tr>\n",
       "      <th>10</th>\n",
       "      <td>11</td>\n",
       "      <td>1</td>\n",
       "      <td>3</td>\n",
       "      <td>Sandstrom, Miss. Marguerite Ru&amp;5$$</td>\n",
       "      <td>female</td>\n",
       "      <td>4</td>\n",
       "      <td>1</td>\n",
       "      <td>1</td>\n",
       "      <td>PP 9549</td>\n",
       "      <td>16,7</td>\n",
       "      <td>G6</td>\n",
       "      <td>S</td>\n",
       "      <td>Titanic</td>\n",
       "    </tr>\n",
       "    <tr>\n",
       "      <th>13</th>\n",
       "      <td>11</td>\n",
       "      <td>1</td>\n",
       "      <td>3</td>\n",
       "      <td>Sandstrom, Miss. Marguerite Ru&amp;5$$</td>\n",
       "      <td>female</td>\n",
       "      <td>4</td>\n",
       "      <td>1</td>\n",
       "      <td>1</td>\n",
       "      <td>PP 9549</td>\n",
       "      <td>16,7</td>\n",
       "      <td>G6</td>\n",
       "      <td>S</td>\n",
       "      <td>Titanic</td>\n",
       "    </tr>\n",
       "    <tr>\n",
       "      <th>23</th>\n",
       "      <td>11</td>\n",
       "      <td>1</td>\n",
       "      <td>3</td>\n",
       "      <td>Sandstrom, Miss. Marguerite Ru&amp;5$$</td>\n",
       "      <td>female</td>\n",
       "      <td>4</td>\n",
       "      <td>1</td>\n",
       "      <td>1</td>\n",
       "      <td>PP 9549</td>\n",
       "      <td>16,7</td>\n",
       "      <td>G6</td>\n",
       "      <td>S</td>\n",
       "      <td>Titanic</td>\n",
       "    </tr>\n",
       "    <tr>\n",
       "      <th>224</th>\n",
       "      <td>225</td>\n",
       "      <td>1</td>\n",
       "      <td>1</td>\n",
       "      <td>Hoyt, Mr. Frederick Maxfield</td>\n",
       "      <td>male</td>\n",
       "      <td>38</td>\n",
       "      <td>1</td>\n",
       "      <td>0</td>\n",
       "      <td>19943</td>\n",
       "      <td>90</td>\n",
       "      <td>C93</td>\n",
       "      <td>S</td>\n",
       "      <td>Titanic</td>\n",
       "    </tr>\n",
       "    <tr>\n",
       "      <th>520</th>\n",
       "      <td>225</td>\n",
       "      <td>1</td>\n",
       "      <td>1</td>\n",
       "      <td>Hoyt, Mr. Frederick Maxfield</td>\n",
       "      <td>male</td>\n",
       "      <td>38</td>\n",
       "      <td>1</td>\n",
       "      <td>0</td>\n",
       "      <td>19943</td>\n",
       "      <td>90</td>\n",
       "      <td>C93</td>\n",
       "      <td>S</td>\n",
       "      <td>Titanic</td>\n",
       "    </tr>\n",
       "  </tbody>\n",
       "</table>\n",
       "</div>"
      ],
      "text/plain": [
       "     PassengerId  Survived  Pclass                                Name  \\\n",
       "10            11         1       3  Sandstrom, Miss. Marguerite Ru&5$$   \n",
       "13            11         1       3  Sandstrom, Miss. Marguerite Ru&5$$   \n",
       "23            11         1       3  Sandstrom, Miss. Marguerite Ru&5$$   \n",
       "224          225         1       1        Hoyt, Mr. Frederick Maxfield   \n",
       "520          225         1       1        Hoyt, Mr. Frederick Maxfield   \n",
       "\n",
       "        Sex Age  SibSp  Parch   Ticket  Fare Cabin Embarked     ship  \n",
       "10   female   4      1      1  PP 9549  16,7    G6        S  Titanic  \n",
       "13   female   4      1      1  PP 9549  16,7    G6        S  Titanic  \n",
       "23   female   4      1      1  PP 9549  16,7    G6        S  Titanic  \n",
       "224    male  38      1      0    19943    90   C93        S  Titanic  \n",
       "520    male  38      1      0    19943    90   C93        S  Titanic  "
      ]
     },
     "execution_count": 3,
     "metadata": {},
     "output_type": "execute_result"
    }
   ],
   "source": [
    "df[df.duplicated(keep=False)]"
   ]
  },
  {
   "cell_type": "markdown",
   "metadata": {},
   "source": [
    "Widać, że zbiór zawiera powtarzające się rekordy. Czy możemy mieć pewność, że powyżej wyświetlone zostały wszystkie duplikaty? Jednym z atrybutów zbioru jest _PassengerId_. Ma on za zadanie jednoznacznie identyfikować obiekt w zbiorze. Sprawdźmy więc, czy w zbiorze nie występują duplikaty, ale tym razem tylko według tego atrybutu."
   ]
  },
  {
   "cell_type": "code",
   "execution_count": 4,
   "metadata": {},
   "outputs": [
    {
     "data": {
      "text/html": [
       "<div>\n",
       "<style scoped>\n",
       "    .dataframe tbody tr th:only-of-type {\n",
       "        vertical-align: middle;\n",
       "    }\n",
       "\n",
       "    .dataframe tbody tr th {\n",
       "        vertical-align: top;\n",
       "    }\n",
       "\n",
       "    .dataframe thead th {\n",
       "        text-align: right;\n",
       "    }\n",
       "</style>\n",
       "<table border=\"1\" class=\"dataframe\">\n",
       "  <thead>\n",
       "    <tr style=\"text-align: right;\">\n",
       "      <th></th>\n",
       "      <th>PassengerId</th>\n",
       "      <th>Survived</th>\n",
       "      <th>Pclass</th>\n",
       "      <th>Name</th>\n",
       "      <th>Sex</th>\n",
       "      <th>Age</th>\n",
       "      <th>SibSp</th>\n",
       "      <th>Parch</th>\n",
       "      <th>Ticket</th>\n",
       "      <th>Fare</th>\n",
       "      <th>Cabin</th>\n",
       "      <th>Embarked</th>\n",
       "      <th>ship</th>\n",
       "    </tr>\n",
       "  </thead>\n",
       "  <tbody>\n",
       "    <tr>\n",
       "      <th>10</th>\n",
       "      <td>11</td>\n",
       "      <td>1</td>\n",
       "      <td>3</td>\n",
       "      <td>Sandstrom, Miss. Marguerite Ru&amp;5$$</td>\n",
       "      <td>female</td>\n",
       "      <td>4</td>\n",
       "      <td>1</td>\n",
       "      <td>1</td>\n",
       "      <td>PP 9549</td>\n",
       "      <td>16,7</td>\n",
       "      <td>G6</td>\n",
       "      <td>S</td>\n",
       "      <td>Titanic</td>\n",
       "    </tr>\n",
       "    <tr>\n",
       "      <th>13</th>\n",
       "      <td>11</td>\n",
       "      <td>1</td>\n",
       "      <td>3</td>\n",
       "      <td>Sandstrom, Miss. Marguerite Ru&amp;5$$</td>\n",
       "      <td>female</td>\n",
       "      <td>4</td>\n",
       "      <td>1</td>\n",
       "      <td>1</td>\n",
       "      <td>PP 9549</td>\n",
       "      <td>16,7</td>\n",
       "      <td>G6</td>\n",
       "      <td>S</td>\n",
       "      <td>Titanic</td>\n",
       "    </tr>\n",
       "    <tr>\n",
       "      <th>23</th>\n",
       "      <td>11</td>\n",
       "      <td>1</td>\n",
       "      <td>3</td>\n",
       "      <td>Sandstrom, Miss. Marguerite Ru&amp;5$$</td>\n",
       "      <td>female</td>\n",
       "      <td>4</td>\n",
       "      <td>1</td>\n",
       "      <td>1</td>\n",
       "      <td>PP 9549</td>\n",
       "      <td>16,7</td>\n",
       "      <td>G6</td>\n",
       "      <td>S</td>\n",
       "      <td>Titanic</td>\n",
       "    </tr>\n",
       "    <tr>\n",
       "      <th>224</th>\n",
       "      <td>225</td>\n",
       "      <td>1</td>\n",
       "      <td>1</td>\n",
       "      <td>Hoyt, Mr. Frederick Maxfield</td>\n",
       "      <td>male</td>\n",
       "      <td>38</td>\n",
       "      <td>1</td>\n",
       "      <td>0</td>\n",
       "      <td>19943</td>\n",
       "      <td>90</td>\n",
       "      <td>C93</td>\n",
       "      <td>S</td>\n",
       "      <td>Titanic</td>\n",
       "    </tr>\n",
       "    <tr>\n",
       "      <th>520</th>\n",
       "      <td>225</td>\n",
       "      <td>1</td>\n",
       "      <td>1</td>\n",
       "      <td>Hoyt, Mr. Frederick Maxfield</td>\n",
       "      <td>male</td>\n",
       "      <td>38</td>\n",
       "      <td>1</td>\n",
       "      <td>0</td>\n",
       "      <td>19943</td>\n",
       "      <td>90</td>\n",
       "      <td>C93</td>\n",
       "      <td>S</td>\n",
       "      <td>Titanic</td>\n",
       "    </tr>\n",
       "    <tr>\n",
       "      <th>678</th>\n",
       "      <td>225</td>\n",
       "      <td>1</td>\n",
       "      <td>1</td>\n",
       "      <td>Hoytt, Mr. Frederick Maxfield</td>\n",
       "      <td>male</td>\n",
       "      <td>38</td>\n",
       "      <td>1</td>\n",
       "      <td>0</td>\n",
       "      <td>19943</td>\n",
       "      <td>90</td>\n",
       "      <td>C93</td>\n",
       "      <td>S</td>\n",
       "      <td>Titanic</td>\n",
       "    </tr>\n",
       "  </tbody>\n",
       "</table>\n",
       "</div>"
      ],
      "text/plain": [
       "     PassengerId  Survived  Pclass                                Name  \\\n",
       "10            11         1       3  Sandstrom, Miss. Marguerite Ru&5$$   \n",
       "13            11         1       3  Sandstrom, Miss. Marguerite Ru&5$$   \n",
       "23            11         1       3  Sandstrom, Miss. Marguerite Ru&5$$   \n",
       "224          225         1       1        Hoyt, Mr. Frederick Maxfield   \n",
       "520          225         1       1        Hoyt, Mr. Frederick Maxfield   \n",
       "678          225         1       1       Hoytt, Mr. Frederick Maxfield   \n",
       "\n",
       "        Sex Age  SibSp  Parch   Ticket  Fare Cabin Embarked     ship  \n",
       "10   female   4      1      1  PP 9549  16,7    G6        S  Titanic  \n",
       "13   female   4      1      1  PP 9549  16,7    G6        S  Titanic  \n",
       "23   female   4      1      1  PP 9549  16,7    G6        S  Titanic  \n",
       "224    male  38      1      0    19943    90   C93        S  Titanic  \n",
       "520    male  38      1      0    19943    90   C93        S  Titanic  \n",
       "678    male  38      1      0    19943    90   C93        S  Titanic  "
      ]
     },
     "execution_count": 4,
     "metadata": {},
     "output_type": "execute_result"
    }
   ],
   "source": [
    "df[df.duplicated(['PassengerId'], keep=False)]"
   ]
  },
  {
   "cell_type": "markdown",
   "metadata": {},
   "source": [
    "Tym razem znaleziono więcej wyników. Widać, że jeden z rekordów powtarza się, ale zawiera literówkę, która sprawiła, że w poprzednim przeszukaniu rekord ten nie został uzwględniony. Należy brać to pod uwagę podczas eliminacji powtarzających się danych. Poniższa funkcja pozwala sprawdzić, czy zbiorze znajdują się duplikaty według ID."
   ]
  },
  {
   "cell_type": "code",
   "execution_count": 5,
   "metadata": {
    "scrolled": true
   },
   "outputs": [
    {
     "data": {
      "text/plain": [
       "False"
      ]
     },
     "execution_count": 5,
     "metadata": {},
     "output_type": "execute_result"
    }
   ],
   "source": [
    "df['PassengerId'].is_unique"
   ]
  },
  {
   "cell_type": "markdown",
   "metadata": {},
   "source": [
    "### Błędne typy danych\n",
    "\n",
    "Jeśli w kolumnach, które powinny zawierać tylko wartości numeryczne pojawią się jakieś nietypowe znaki, typ danych w tej kolumnie może nie odpowiadać przewidywanemu. W tym celu należy przeszukać zbiór w poszukiwaniu kolumn o typie _object_. Następnie dla tych kolumn sprawdzić wartości. W tym celu napisano specjalne funkcje."
   ]
  },
  {
   "cell_type": "code",
   "execution_count": 6,
   "metadata": {},
   "outputs": [],
   "source": [
    "def is_number(num):\n",
    "    return num.lstrip('-').replace('.','',1).replace(',','',1).replace('e-','',1).replace('e','',1).isdigit()"
   ]
  },
  {
   "cell_type": "markdown",
   "metadata": {},
   "source": [
    "Funkcja __is_number__ sprawdza czy ciąg znaków podany jako argument może reprezentować liczbę."
   ]
  },
  {
   "cell_type": "code",
   "execution_count": 7,
   "metadata": {},
   "outputs": [],
   "source": [
    "def get_numbers_as_strings_columns(df, confidence, print_string_numbers=False, print_string_regulars=False, \n",
    "                                   print_counters=False, filter=None):\n",
    "    \n",
    "    if confidence not in range(0, 100):\n",
    "        return 'Wrong confidence, specify number from 0 to 100.'\n",
    "    \n",
    "    columns = list()\n",
    "    \n",
    "    for col in df:\n",
    "        if filter and col not in filter:\n",
    "            continue\n",
    "\n",
    "        if is_string_dtype(df[col]):\n",
    "            counter = 0\n",
    "            for cell in df[col]:\n",
    "                if pd.isna(cell):\n",
    "                    continue\n",
    "\n",
    "                if type(cell) == str and is_number(cell):\n",
    "                    counter += 1\n",
    "                    if print_string_numbers: print(cell, ' - ', 'number')          \n",
    "                else:\n",
    "                    if print_string_regulars: print(cell, ' - ', 'regular') \n",
    "\n",
    "            if print_counters: print(col, ', Numbers counter: ', counter, ', Not null values: ', df[col].count())\n",
    "            if (counter / df[col].count())*100 > confidence:\n",
    "                columns.append(col)\n",
    "            \n",
    "    return columns"
   ]
  },
  {
   "cell_type": "markdown",
   "metadata": {},
   "source": [
    "Funkcja __get_numbers_as_strings_columns__ przeszukuje obiekt _DataFrame_ w poszukiwaniu kolumn z danymi typu _object_. Następnie dla takich kolumn sprawdzane jest, kolumna zawiera wartości, które mogą być liczbami. Na podstawie parametru _confidence_ określa się, dla jakiego procentu danych w kolumnie kolumna ta uznawana jest za zbiór danych numerycznych. Np. dla parametru _confidence=95_ kolumna uznawana jest za liczbową jeśli w wyniku filtrowania, uznano przynajmniej 95% jej wartości niepustych jako liczbowe. Parametr taki jest potrzebny, ponieważ dane mogą zawierać błędy takie jak przypadkowo wpisane litery. \n",
    "\n",
    "Teraz sprawdzimy, które kolumny mogą zawierać takie dane."
   ]
  },
  {
   "cell_type": "code",
   "execution_count": 8,
   "metadata": {},
   "outputs": [
    {
     "name": "stdout",
     "output_type": "stream",
     "text": [
      "Name , Numbers counter:  0 , Not null values:  892\n",
      "Sex , Numbers counter:  0 , Not null values:  892\n",
      "Age , Numbers counter:  719 , Not null values:  719\n",
      "Ticket , Numbers counter:  661 , Not null values:  892\n",
      "Fare , Numbers counter:  891 , Not null values:  892\n",
      "Cabin , Numbers counter:  0 , Not null values:  207\n",
      "Embarked , Numbers counter:  0 , Not null values:  890\n",
      "ship , Numbers counter:  0 , Not null values:  892\n"
     ]
    },
    {
     "data": {
      "text/plain": [
       "['Age', 'Fare']"
      ]
     },
     "execution_count": 8,
     "metadata": {},
     "output_type": "execute_result"
    }
   ],
   "source": [
    "get_numbers_as_strings_columns(df, 95, print_counters=True)"
   ]
  },
  {
   "cell_type": "markdown",
   "metadata": {},
   "source": [
    "Widać, że algorytm wytypował kolumny _Age_ oraz _Fare_ jako zbiory liczb. Dla kolumny _Age_ wszystkie wartości uznane zostały za liczbowe, natomiast dla kolmuny _Fare_ wszystkie oprócz jednej. Możemy jeszcze raz użyć powyższej funkcji do wypisania danych, które uznane zostały za nieliczbowe."
   ]
  },
  {
   "cell_type": "code",
   "execution_count": 9,
   "metadata": {},
   "outputs": [
    {
     "name": "stdout",
     "output_type": "stream",
     "text": [
      "15,9a  -  regular\n"
     ]
    },
    {
     "data": {
      "text/plain": [
       "['Fare']"
      ]
     },
     "execution_count": 9,
     "metadata": {},
     "output_type": "execute_result"
    }
   ],
   "source": [
    "get_numbers_as_strings_columns(df, 95, print_string_regulars=True, print_counters=False, filter=('Fare'))"
   ]
  },
  {
   "cell_type": "markdown",
   "metadata": {},
   "source": [
    "Widać, że w kolumnie znajdowała się wartość liczbowa z literą. Trzeba będzie więc oczyścić wytypowane kolumny z nieporządanych znaków.  "
   ]
  },
  {
   "cell_type": "markdown",
   "metadata": {},
   "source": [
    "### Błędy w wartościach dla danych jakościowych\n",
    "\n",
    "Sprawdźmy po ile unikalnych wartości zawiera każda z kolumn zbioru."
   ]
  },
  {
   "cell_type": "code",
   "execution_count": 10,
   "metadata": {},
   "outputs": [
    {
     "name": "stdout",
     "output_type": "stream",
     "text": [
      "PassengerId    888\n",
      "Survived         2\n",
      "Pclass           3\n",
      "Name           889\n",
      "Sex              6\n",
      "Age             93\n",
      "SibSp            7\n",
      "Parch            6\n",
      "Ticket         680\n",
      "Fare           250\n",
      "Cabin          145\n",
      "Embarked         6\n",
      "ship             1\n",
      "dtype: int64\n"
     ]
    }
   ],
   "source": [
    "print(df.nunique())"
   ]
  },
  {
   "cell_type": "markdown",
   "metadata": {},
   "source": [
    "Sprawdźmy teraz jakie są to wartości, dla kolumn gdzie liczba unikalnych wartości jest niewielka. Możemy przefiltrować wyniki w taki sposób, otrzymać tylko kolumny z obiektami typu Object. W ten sposób wyselekcjonujemy kolumny, do sprawdzenia."
   ]
  },
  {
   "cell_type": "code",
   "execution_count": 11,
   "metadata": {},
   "outputs": [
    {
     "name": "stdout",
     "output_type": "stream",
     "text": [
      "['Sex', 'Embarked', 'ship']\n"
     ]
    }
   ],
   "source": [
    "columns = [col for col in df if (df[col].nunique() < 10) and (is_string_dtype(df[col]))]\n",
    "print(columns)"
   ]
  },
  {
   "cell_type": "markdown",
   "metadata": {},
   "source": [
    "W zbiorze się kilka takich kolumn. Wcześniej pokazano, że np. dla kolumny _Sex_ zbiór posiada 6 unikalnych wartości. To jasno pokazuje, że w zbiorze mogą być błędy. Teraz Sprawdźmy, jakie są to wartości. Celowo pomijamy wartości puste."
   ]
  },
  {
   "cell_type": "code",
   "execution_count": 12,
   "metadata": {},
   "outputs": [
    {
     "name": "stdout",
     "output_type": "stream",
     "text": [
      "Sex :  ['male' 'female' 'malef' 'mal' 'fem' 'femmale']\n",
      "Embarked :  ['S' 'C' 'Q' 'So' 'Co' 'Qe']\n",
      "ship :  ['Titanic']\n"
     ]
    }
   ],
   "source": [
    "for col in columns:\n",
    "    print(col, ': ', df[col].dropna().unique())"
   ]
  },
  {
   "cell_type": "markdown",
   "metadata": {},
   "source": [
    "Widać, że niektóre z wartości zawierają po prostu literówki - są błędne. Takie wartości możemy po prostu usunąć. "
   ]
  },
  {
   "cell_type": "markdown",
   "metadata": {},
   "source": [
    "### Nieporządane znaki w kolumnie _Name_\n",
    "\n",
    "Jedna z kolumn zbioru zawiera imiona pasażerów. Można je wstępnie przefiltrować w poszukiwaniu nietypowych znaków."
   ]
  },
  {
   "cell_type": "code",
   "execution_count": 13,
   "metadata": {},
   "outputs": [
    {
     "name": "stdout",
     "output_type": "stream",
     "text": [
      "imię: Sandstrom, Miss. Marguerite Ru&5$$\n",
      "<re.Match object; span=(30, 31), match='&'>\n",
      "imię: Sandstrom, Miss. Marguerite Ru&5$$\n",
      "<re.Match object; span=(30, 31), match='&'>\n",
      "imię: Sandstrom, Miss. Marguerite Ru&5$$\n",
      "<re.Match object; span=(30, 31), match='&'>\n"
     ]
    }
   ],
   "source": [
    "for name in df['Name']:\n",
    "     if re.search(r'[^A-Za-z\\s,.\\\"\\'\\-()/]', name):\n",
    "        print('imię:', name)\n",
    "        print(re.search(r'[^A-Za-z\\s,.\\\"\\'\\-()/]', name))"
   ]
  },
  {
   "cell_type": "markdown",
   "metadata": {},
   "source": [
    "Znalezio jedno wystąpienie zawierające znaki nieporządane (powtórzone 3 razy, ponieważ usuwanie duplikatów następuje później). Należy je w takim razie usunąć.\n",
    "\n",
    "Istnieje tutaj możliwość przefiltrowania według wielu kategorii. Można by na przykład usunąć pseudonimy czy rozdzielić kolumnę na dwie, jednak to wykracza poza niezbędne czynności mające na celu wyczyszczenie zbioru."
   ]
  },
  {
   "cell_type": "markdown",
   "metadata": {},
   "source": [
    "### Kolumny zbędne"
   ]
  },
  {
   "cell_type": "markdown",
   "metadata": {},
   "source": [
    "Teraz sprawdzone zostanie występowanie kolumn zbędnych w zbiorze. Szukamy kolumn o tylko jednej wartości."
   ]
  },
  {
   "cell_type": "code",
   "execution_count": 14,
   "metadata": {},
   "outputs": [
    {
     "name": "stdout",
     "output_type": "stream",
     "text": [
      "ship\n"
     ]
    }
   ],
   "source": [
    "for col in df:\n",
    "    if df[col].nunique() == 1:\n",
    "        print(col)"
   ]
  },
  {
   "cell_type": "markdown",
   "metadata": {},
   "source": [
    "Widać, że ostatnia kolumna zbioru zawiera niepotrzebną i powtarzającą się informację."
   ]
  },
  {
   "cell_type": "code",
   "execution_count": 15,
   "metadata": {},
   "outputs": [
    {
     "data": {
      "text/plain": [
       "count         892\n",
       "unique          1\n",
       "top       Titanic\n",
       "freq          892\n",
       "Name: ship, dtype: object"
      ]
     },
     "execution_count": 15,
     "metadata": {},
     "output_type": "execute_result"
    }
   ],
   "source": [
    "df['ship'].describe()"
   ]
  },
  {
   "cell_type": "markdown",
   "metadata": {},
   "source": [
    "Każdy obiekt posiada tą samą wartość dla tego atrybutu, będącego informacją dotyczącą statku jakim podróżowali pasażerowie. Wiedząc na wstępie, że dane dotyczą pasażerów jednego statku i widząc, że są one powtarzalne oraz zbędne, można je w całości usunąć ze zbioru."
   ]
  },
  {
   "cell_type": "markdown",
   "metadata": {},
   "source": [
    "### Atrybuty numeryczne, które powinny być nominalne\n",
    "\n",
    "Można sprawdzić czy zbiór zawiera atrybuty o wartościach 1 lub 0."
   ]
  },
  {
   "cell_type": "code",
   "execution_count": 16,
   "metadata": {},
   "outputs": [
    {
     "data": {
      "text/plain": [
       "Index(['Survived'], dtype='object')"
      ]
     },
     "execution_count": 16,
     "metadata": {},
     "output_type": "execute_result"
    }
   ],
   "source": [
    "df.columns[df.isin([0,1]).all()]"
   ]
  },
  {
   "cell_type": "markdown",
   "metadata": {},
   "source": [
    "Atrybut _Survived_ zawiera wartości 0 i 1."
   ]
  },
  {
   "cell_type": "code",
   "execution_count": 17,
   "metadata": {},
   "outputs": [
    {
     "data": {
      "text/plain": [
       "0    547\n",
       "1    345\n",
       "Name: Survived, dtype: int64"
      ]
     },
     "execution_count": 17,
     "metadata": {},
     "output_type": "execute_result"
    }
   ],
   "source": [
    "df['Survived'].value_counts()"
   ]
  },
  {
   "cell_type": "markdown",
   "metadata": {},
   "source": [
    "Możemy zamienić jego wartości na nominalne. Widać również, że atrybut _Pclass_ nie powinien być traktowany jako numeryczny."
   ]
  },
  {
   "cell_type": "code",
   "execution_count": 18,
   "metadata": {},
   "outputs": [
    {
     "data": {
      "text/plain": [
       "3    491\n",
       "1    217\n",
       "2    184\n",
       "Name: Pclass, dtype: int64"
      ]
     },
     "execution_count": 18,
     "metadata": {},
     "output_type": "execute_result"
    }
   ],
   "source": [
    "df['Pclass'].value_counts()"
   ]
  },
  {
   "cell_type": "markdown",
   "metadata": {},
   "source": [
    "### Wartości odstające\n",
    "\n",
    "Sprawdźmy czy w zbiorze występują jakieś wartości odstające dla zmiennych numerycznych. Najłatwiej to zrobić biorąc pod lupę atrybut, którego zakres wartości mniej więcej znamy. W tym zbiorze takim atrybutem jest _Age_. "
   ]
  },
  {
   "cell_type": "code",
   "execution_count": 19,
   "metadata": {},
   "outputs": [
    {
     "name": "stdout",
     "output_type": "stream",
     "text": [
      "4435\n",
      "-3\n",
      "-12\n",
      "250\n"
     ]
    }
   ],
   "source": [
    "for val in df.Age.dropna():\n",
    "    try:\n",
    "        if not (0 <= int(val) <= 100):\n",
    "            print(val)\n",
    "    except Exception:\n",
    "        continue"
   ]
  },
  {
   "cell_type": "markdown",
   "metadata": {},
   "source": [
    "Sprawdzony atrybut zawiera wartości odstające, dlatego więcej atrybutów na razie nie sprawdzamy. W dalszej części zastosujemy algorytm, który przeszuka wszystkie kolumny w poszukiwaniu takich wartości."
   ]
  },
  {
   "cell_type": "markdown",
   "metadata": {},
   "source": [
    "### Brakujące wartości\n",
    "Sprawdźmy teraz, czy w zbiorze występują brakujące wartości."
   ]
  },
  {
   "cell_type": "code",
   "execution_count": 20,
   "metadata": {},
   "outputs": [
    {
     "data": {
      "text/plain": [
       "PassengerId      0\n",
       "Survived         0\n",
       "Pclass           0\n",
       "Name             0\n",
       "Sex              0\n",
       "Age            173\n",
       "SibSp            0\n",
       "Parch            0\n",
       "Ticket           0\n",
       "Fare             0\n",
       "Cabin          685\n",
       "Embarked         2\n",
       "ship             0\n",
       "dtype: int64"
      ]
     },
     "execution_count": 20,
     "metadata": {},
     "output_type": "execute_result"
    }
   ],
   "source": [
    "df.isnull().sum()"
   ]
  },
  {
   "cell_type": "markdown",
   "metadata": {},
   "source": [
    "Wygląda na to, że zbiór zawiera brakujące wartości dla atrybutów Age, Cabin oraz Embarked."
   ]
  },
  {
   "cell_type": "markdown",
   "metadata": {},
   "source": [
    "\n",
    "\n",
    "# Czyszczenie danych\n",
    "\n",
    "Teraz wykonane zostaną wszystkie operacje mające na celu przygotowanie zbioru do wykonywania analiz. **Zadbano o to, aby poniższy kod w miarę możliwości dało się wykorzystać dla innych zbiorów. Niektóre problemy wymagały jednak indywidualnego podejścia. Umieszczono także krótkie komentarze dotyczące wykonywanych operacji dla tego konkretnego zbioru, którego zawartość omawiana była w powyższej analizie.**  "
   ]
  },
  {
   "cell_type": "markdown",
   "metadata": {},
   "source": [
    "### Usuwanie duplikatów\n",
    "Usunięte zostaną duplikaty danych."
   ]
  },
  {
   "cell_type": "code",
   "execution_count": 21,
   "metadata": {},
   "outputs": [
    {
     "data": {
      "text/plain": [
       "False"
      ]
     },
     "execution_count": 21,
     "metadata": {},
     "output_type": "execute_result"
    }
   ],
   "source": [
    "df = df.drop_duplicates(ignore_index=True)\n",
    "df['PassengerId'].is_unique"
   ]
  },
  {
   "cell_type": "markdown",
   "metadata": {},
   "source": [
    "Powyższa funkcja zwraca false, ponieważ nie usunięto duplikatów według numeru ID. Ta operacja zostanie wykonana poniżej."
   ]
  },
  {
   "cell_type": "code",
   "execution_count": 22,
   "metadata": {},
   "outputs": [
    {
     "data": {
      "text/plain": [
       "True"
      ]
     },
     "execution_count": 22,
     "metadata": {},
     "output_type": "execute_result"
    }
   ],
   "source": [
    "df = df.drop_duplicates('PassengerId', ignore_index=True)\n",
    "df['PassengerId'].is_unique"
   ]
  },
  {
   "cell_type": "markdown",
   "metadata": {},
   "source": [
    "Teraz w zbiorze duplikaty już nie występują."
   ]
  },
  {
   "cell_type": "markdown",
   "metadata": {},
   "source": [
    "### Czyszczenie i zmiana typów danych dla kolumn z wartościami numerycznymi zapisanymi jako string"
   ]
  },
  {
   "cell_type": "markdown",
   "metadata": {},
   "source": [
    "W celu oczyszcenia danych napisano funkcję. Dla kolumn, których nazwy przekazywane są jako parametr następuje czyszczenie danych. Na koniec zmieniamy typ danych dla kolumny."
   ]
  },
  {
   "cell_type": "code",
   "execution_count": 23,
   "metadata": {},
   "outputs": [],
   "source": [
    "def clean_numeric_columns(df, columns):\n",
    "    for col in columns:\n",
    "        for index_row, cell in enumerate(df[col]):\n",
    "            if pd.isna(cell): continue\n",
    "            \n",
    "            # zamiana przecinków na kropki\n",
    "            cell = cell.strip().replace(',', '.')\n",
    "            \n",
    "            # usuwanie nieporządanych znaków (zostawia tylko liczby, kropkę dla ułamków, minusy) \n",
    "            cell = re.sub(r'[^-\\d\\.]', '', cell)\n",
    "\n",
    "            # modyfikacja (podmiana elementu)\n",
    "            try:\n",
    "                df.loc[index_row, col] = cell\n",
    "            except Exception as ex:\n",
    "                print(ex)\n",
    "            \n",
    "        # konwersja na typ liczbowy\n",
    "        try:\n",
    "            df[col] = pd.to_numeric(df[col])\n",
    "        except Exception as ex:\n",
    "            print(\"Something went wrong parsing \", col, ', ex: ', ex)"
   ]
  },
  {
   "cell_type": "markdown",
   "metadata": {},
   "source": [
    "Odpowiednie kolumny do przekazania dla funkcji otrzymamy wykorzystując funkcję __get_numbers_as_strings_columns__ napisaną wcześniej."
   ]
  },
  {
   "cell_type": "code",
   "execution_count": 24,
   "metadata": {},
   "outputs": [
    {
     "data": {
      "text/plain": [
       "PassengerId      int64\n",
       "Survived         int64\n",
       "Pclass           int64\n",
       "Name            object\n",
       "Sex             object\n",
       "Age            float64\n",
       "SibSp            int64\n",
       "Parch            int64\n",
       "Ticket          object\n",
       "Fare           float64\n",
       "Cabin           object\n",
       "Embarked        object\n",
       "ship            object\n",
       "dtype: object"
      ]
     },
     "execution_count": 24,
     "metadata": {},
     "output_type": "execute_result"
    }
   ],
   "source": [
    "cols = get_numbers_as_strings_columns(df, 95)\n",
    "clean_numeric_columns(df, cols)\n",
    "df.dtypes"
   ]
  },
  {
   "cell_type": "markdown",
   "metadata": {},
   "source": [
    "Typ kolumn wskazuje na to, że dane są już w poprawnym formacie."
   ]
  },
  {
   "cell_type": "markdown",
   "metadata": {},
   "source": [
    "### Usuwanie błędnych wartości dla danych jakościowych\n",
    "\n",
    "Aby usunąć niechciane dane wykorzystana zostanie funkcja stworzona specjalnie do rozwiązania tego typu problemu."
   ]
  },
  {
   "cell_type": "code",
   "execution_count": 25,
   "metadata": {},
   "outputs": [],
   "source": [
    "def remove_categorical_mistakes(df, factor, min_perc_occurences, filter_func=lambda _: True, print_info=True):                 \n",
    "    # znajdź kolumny o [x < factor] unikalnych wartościach\n",
    "    columns = [col for col in df if (df[col].nunique() < factor) and (filter_func(df[col]))]\n",
    "\n",
    "    for col in columns:\n",
    "        for val in df[col].dropna().unique():\n",
    "            counter = df[col].value_counts()[val]\n",
    "            if print_info: print(col, ', value: ',val, ' =  ', counter, 'times')\n",
    "            \n",
    "            if not counter/df[col].count()*100 > min_perc_occurences:\n",
    "                df[col] = df[col].replace(val, np.nan)\n",
    "                if print_info: print('Deleting value:', val)"
   ]
  },
  {
   "cell_type": "markdown",
   "metadata": {},
   "source": [
    "Powyższa funkcja zaczyna od wyszukania odpowiednich kolumn. Przyjmuje jako parametr _factor_ liczbę określającą maksymalną liczbę unikalnych wartości dla wyszukiwanych kolumn. Można też jako parametr przekazać funkcje, która dodatkowo filtruje kolumny. Następnie liczone są wystąpienia każdej z wartości. Jeśli wystąpienia te będą stanowić procentowo mniejszą część zbioru niż procent podany jako parametr *min_perc_occurences*, to wartości takie zostaną usunięte.\n",
    "\n",
    "Wykorzystamy teraz powyższą funkcję. Przekazane parametry pozwolą na wyszukanie kolumn z danymi typu _object_ posiadających mniej niż 10 unikalnych wartości. Wszystkie wartości stanowiące mniej niż podany 1% całej kolumny zostaną usunięte."
   ]
  },
  {
   "cell_type": "code",
   "execution_count": 26,
   "metadata": {
    "scrolled": true
   },
   "outputs": [
    {
     "name": "stdout",
     "output_type": "stream",
     "text": [
      "PassengerId    888\n",
      "Survived         2\n",
      "Pclass           3\n",
      "Name           888\n",
      "Sex              6\n",
      "Age             93\n",
      "SibSp            7\n",
      "Parch            6\n",
      "Ticket         680\n",
      "Fare           249\n",
      "Cabin          145\n",
      "Embarked         6\n",
      "ship             1\n",
      "dtype: int64 \n",
      "\n",
      "Sex , value:  male  =   574 times\n",
      "Sex , value:  female  =   310 times\n",
      "Sex , value:  malef  =   1 times\n",
      "Deleting value: malef\n",
      "Sex , value:  mal  =   1 times\n",
      "Deleting value: mal\n",
      "Sex , value:  fem  =   1 times\n",
      "Deleting value: fem\n",
      "Sex , value:  femmale  =   1 times\n",
      "Deleting value: femmale\n",
      "Embarked , value:  S  =   639 times\n",
      "Embarked , value:  C  =   167 times\n",
      "Embarked , value:  Q  =   76 times\n",
      "Embarked , value:  So  =   2 times\n",
      "Deleting value: So\n",
      "Embarked , value:  Co  =   1 times\n",
      "Deleting value: Co\n",
      "Embarked , value:  Qe  =   1 times\n",
      "Deleting value: Qe\n",
      "ship , value:  Titanic  =   888 times\n"
     ]
    },
    {
     "data": {
      "text/plain": [
       "PassengerId    888\n",
       "Survived         2\n",
       "Pclass           3\n",
       "Name           888\n",
       "Sex              2\n",
       "Age             93\n",
       "SibSp            7\n",
       "Parch            6\n",
       "Ticket         680\n",
       "Fare           249\n",
       "Cabin          145\n",
       "Embarked         3\n",
       "ship             1\n",
       "dtype: int64"
      ]
     },
     "execution_count": 26,
     "metadata": {},
     "output_type": "execute_result"
    }
   ],
   "source": [
    "print(df.nunique(), '\\n')\n",
    "remove_categorical_mistakes(df, 10, 1, filter_func=is_string_dtype)\n",
    "df.nunique()"
   ]
  },
  {
   "cell_type": "markdown",
   "metadata": {},
   "source": [
    "Jak widać powyżej kolumny zostały wyczyszcone z błędnych danych."
   ]
  },
  {
   "cell_type": "markdown",
   "metadata": {},
   "source": [
    "### Usuwanie nieporządanych znaków z imion pasażerów\n",
    "\n",
    "Znaki nieporządane znalezione wcześniej zostaną usunięte przy pomocy wyrażeń regularnych. "
   ]
  },
  {
   "cell_type": "code",
   "execution_count": 27,
   "metadata": {},
   "outputs": [
    {
     "name": "stdout",
     "output_type": "stream",
     "text": [
      "Oryginał: Sandstrom, Miss. Marguerite Ru&5$$\n",
      "<re.Match object; span=(30, 31), match='&'>\n",
      "Poprawione: Sandstrom, Miss. Marguerite Ru\n"
     ]
    }
   ],
   "source": [
    "for index, name in enumerate(df['Name']):\n",
    "     if re.search(r'[^A-Za-z\\s,.\\\"\\'\\-()/]', name):\n",
    "        print('Oryginał:', name)\n",
    "        print(re.search(r'[^A-Za-z\\s,.\\\"\\'\\-()/]', name))\n",
    "        striped_name = re.sub(r'[^A-Za-z\\s,.\\\"\\'\\-()/]', '', name)\n",
    "        print('Poprawione:',striped_name)\n",
    "        df.at[index, 'Name'] = striped_name"
   ]
  },
  {
   "cell_type": "markdown",
   "metadata": {},
   "source": [
    "### Usuwanie kolumn zbędnych"
   ]
  },
  {
   "cell_type": "code",
   "execution_count": 28,
   "metadata": {},
   "outputs": [],
   "source": [
    "for col in df:\n",
    "    if df[col].nunique() == 1:\n",
    "        df.drop(columns=col, inplace=True)"
   ]
  },
  {
   "cell_type": "markdown",
   "metadata": {},
   "source": [
    "Sprawdźmy czy kolumna została usunięta. Jak widać poniżej kolumna zostaje usunięta."
   ]
  },
  {
   "cell_type": "code",
   "execution_count": 29,
   "metadata": {},
   "outputs": [
    {
     "data": {
      "text/plain": [
       "PassengerId    888\n",
       "Survived         2\n",
       "Pclass           3\n",
       "Name           888\n",
       "Sex              2\n",
       "Age             93\n",
       "SibSp            7\n",
       "Parch            6\n",
       "Ticket         680\n",
       "Fare           249\n",
       "Cabin          145\n",
       "Embarked         3\n",
       "dtype: int64"
      ]
     },
     "execution_count": 29,
     "metadata": {},
     "output_type": "execute_result"
    }
   ],
   "source": [
    "df.nunique()"
   ]
  },
  {
   "cell_type": "markdown",
   "metadata": {},
   "source": [
    "### Zamiana wartości numerycznych na nominalne"
   ]
  },
  {
   "cell_type": "markdown",
   "metadata": {},
   "source": [
    "Przeszukane zostaną wszystkie kolumny w poszukiwaniu zbiorów o wartościach binarnych (0 oraz 1)."
   ]
  },
  {
   "cell_type": "code",
   "execution_count": 30,
   "metadata": {},
   "outputs": [
    {
     "data": {
      "text/html": [
       "<div>\n",
       "<style scoped>\n",
       "    .dataframe tbody tr th:only-of-type {\n",
       "        vertical-align: middle;\n",
       "    }\n",
       "\n",
       "    .dataframe tbody tr th {\n",
       "        vertical-align: top;\n",
       "    }\n",
       "\n",
       "    .dataframe thead th {\n",
       "        text-align: right;\n",
       "    }\n",
       "</style>\n",
       "<table border=\"1\" class=\"dataframe\">\n",
       "  <thead>\n",
       "    <tr style=\"text-align: right;\">\n",
       "      <th></th>\n",
       "      <th>PassengerId</th>\n",
       "      <th>Survived</th>\n",
       "      <th>Pclass</th>\n",
       "      <th>Name</th>\n",
       "      <th>Sex</th>\n",
       "      <th>Age</th>\n",
       "      <th>SibSp</th>\n",
       "      <th>Parch</th>\n",
       "      <th>Ticket</th>\n",
       "      <th>Fare</th>\n",
       "      <th>Cabin</th>\n",
       "      <th>Embarked</th>\n",
       "    </tr>\n",
       "  </thead>\n",
       "  <tbody>\n",
       "    <tr>\n",
       "      <th>0</th>\n",
       "      <td>1</td>\n",
       "      <td>False</td>\n",
       "      <td>3</td>\n",
       "      <td>Braund, Mr. Owen Harris</td>\n",
       "      <td>male</td>\n",
       "      <td>22.0</td>\n",
       "      <td>1</td>\n",
       "      <td>0</td>\n",
       "      <td>A/5 21171</td>\n",
       "      <td>7.2500</td>\n",
       "      <td>NaN</td>\n",
       "      <td>S</td>\n",
       "    </tr>\n",
       "    <tr>\n",
       "      <th>1</th>\n",
       "      <td>2</td>\n",
       "      <td>True</td>\n",
       "      <td>1</td>\n",
       "      <td>Cumings, Mrs. John Bradley (Florence Briggs Th...</td>\n",
       "      <td>female</td>\n",
       "      <td>38.0</td>\n",
       "      <td>1</td>\n",
       "      <td>0</td>\n",
       "      <td>PC 17599</td>\n",
       "      <td>71.2833</td>\n",
       "      <td>C85</td>\n",
       "      <td>C</td>\n",
       "    </tr>\n",
       "    <tr>\n",
       "      <th>2</th>\n",
       "      <td>3</td>\n",
       "      <td>True</td>\n",
       "      <td>3</td>\n",
       "      <td>Heikkinen, Miss. Laina</td>\n",
       "      <td>female</td>\n",
       "      <td>26.0</td>\n",
       "      <td>0</td>\n",
       "      <td>0</td>\n",
       "      <td>STON/O2. 3101282</td>\n",
       "      <td>7.9250</td>\n",
       "      <td>NaN</td>\n",
       "      <td>S</td>\n",
       "    </tr>\n",
       "    <tr>\n",
       "      <th>3</th>\n",
       "      <td>4</td>\n",
       "      <td>True</td>\n",
       "      <td>1</td>\n",
       "      <td>Futrelle, Mrs. Jacques Heath (Lily May Peel)</td>\n",
       "      <td>female</td>\n",
       "      <td>35.0</td>\n",
       "      <td>1</td>\n",
       "      <td>0</td>\n",
       "      <td>113803</td>\n",
       "      <td>53.1000</td>\n",
       "      <td>C123</td>\n",
       "      <td>S</td>\n",
       "    </tr>\n",
       "    <tr>\n",
       "      <th>4</th>\n",
       "      <td>5</td>\n",
       "      <td>False</td>\n",
       "      <td>3</td>\n",
       "      <td>Allen, Mr. William Henry</td>\n",
       "      <td>male</td>\n",
       "      <td>35.0</td>\n",
       "      <td>0</td>\n",
       "      <td>0</td>\n",
       "      <td>373450</td>\n",
       "      <td>8.0500</td>\n",
       "      <td>NaN</td>\n",
       "      <td>S</td>\n",
       "    </tr>\n",
       "  </tbody>\n",
       "</table>\n",
       "</div>"
      ],
      "text/plain": [
       "   PassengerId Survived  Pclass  \\\n",
       "0            1    False       3   \n",
       "1            2     True       1   \n",
       "2            3     True       3   \n",
       "3            4     True       1   \n",
       "4            5    False       3   \n",
       "\n",
       "                                                Name     Sex   Age  SibSp  \\\n",
       "0                            Braund, Mr. Owen Harris    male  22.0      1   \n",
       "1  Cumings, Mrs. John Bradley (Florence Briggs Th...  female  38.0      1   \n",
       "2                             Heikkinen, Miss. Laina  female  26.0      0   \n",
       "3       Futrelle, Mrs. Jacques Heath (Lily May Peel)  female  35.0      1   \n",
       "4                           Allen, Mr. William Henry    male  35.0      0   \n",
       "\n",
       "   Parch            Ticket     Fare Cabin Embarked  \n",
       "0      0         A/5 21171   7.2500   NaN        S  \n",
       "1      0          PC 17599  71.2833   C85        C  \n",
       "2      0  STON/O2. 3101282   7.9250   NaN        S  \n",
       "3      0            113803  53.1000  C123        S  \n",
       "4      0            373450   8.0500   NaN        S  "
      ]
     },
     "execution_count": 30,
     "metadata": {},
     "output_type": "execute_result"
    }
   ],
   "source": [
    "for col in df.columns[df.isin([0,1]).all()]:\n",
    "    df[col] = df[col].replace({0:'False', 1:'True'})\n",
    "    \n",
    "df.head()"
   ]
  },
  {
   "cell_type": "markdown",
   "metadata": {},
   "source": [
    "Wartości 0 oraz 1 zostały zmienione na False oraz True w tym przypadku tylko dla kolumny _Survived_. Teraz zamienimy atrybut Pclass na nieliczbowy."
   ]
  },
  {
   "cell_type": "code",
   "execution_count": 31,
   "metadata": {},
   "outputs": [
    {
     "name": "stdout",
     "output_type": "stream",
     "text": [
      "['3rd' '1st' '2nd']\n"
     ]
    }
   ],
   "source": [
    "def class_to_str(num):\n",
    "    if num == 1:\n",
    "        return '1st'\n",
    "    elif num == 2:\n",
    "        return '2nd'\n",
    "    elif num == 3:\n",
    "        return '3rd'\n",
    "    else:\n",
    "        return str(num) + 'th'\n",
    "\n",
    "df['Pclass'] = df['Pclass'].astype(object)\n",
    "df['Pclass'] = df['Pclass'].apply(class_to_str)\n",
    "print(df['Pclass'].unique())"
   ]
  },
  {
   "cell_type": "markdown",
   "metadata": {},
   "source": [
    "### Wartości odstające\n",
    "\n",
    "Aby znaleźć wartości odstające wykorzystamy poniższą funkcję. Wykorzystuje ona kwantyle do odnalezienia wartości odstających. Przeszukanie następuje dla wszystkich kolumn numerycznych z wyjątkiem kolumny z ID."
   ]
  },
  {
   "cell_type": "code",
   "execution_count": 32,
   "metadata": {},
   "outputs": [],
   "source": [
    "def delete_outliers(df, min_quant, max_quant, include_id=False, print_info=True):\n",
    "    indexes = set()\n",
    "    numeric_columns = [col for col in df if is_numeric_dtype(df[col])]\n",
    "    if print_info: print('Numeric columns: ', numeric_columns, '\\n')\n",
    "    \n",
    "    for col in df[numeric_columns]:\n",
    "        if not include_id and 'id' in col.lower(): continue\n",
    "        print(col, '\\n')\n",
    "\n",
    "        min_thresold = df[col].quantile(min_quant)\n",
    "        if print_info: print('Min thresold:', min_thresold)\n",
    "\n",
    "        max_thresold = df[col].quantile(max_quant)\n",
    "        if print_info: print('Max thresold:', max_thresold)\n",
    "\n",
    "        for index, cell in enumerate(df[col]):\n",
    "            if pd.isnull(cell): continue\n",
    "            if not (min_thresold <= cell <= max_thresold):\n",
    "                if print_info: print('\\t Deleting row for', col, 'value:', cell)\n",
    "                indexes.add(index)\n",
    "\n",
    "        if print_info: print('\\n', 25*'-', sep='')\n",
    "\n",
    "    df.drop(list(indexes), inplace=True)"
   ]
  },
  {
   "cell_type": "code",
   "execution_count": 33,
   "metadata": {
    "scrolled": true
   },
   "outputs": [
    {
     "name": "stdout",
     "output_type": "stream",
     "text": [
      "Numeric columns:  ['PassengerId', 'Age', 'SibSp', 'Parch', 'Fare'] \n",
      "\n",
      "Age \n",
      "\n",
      "Min thresold: -1.5362400000000003\n",
      "Max thresold: 177.24000000000046\n",
      "\t Deleting row for Age value: 4435.0\n",
      "\t Deleting row for Age value: -3.0\n",
      "\t Deleting row for Age value: -12.0\n",
      "\t Deleting row for Age value: 250.0\n",
      "\n",
      "-------------------------\n",
      "SibSp \n",
      "\n",
      "Min thresold: 0.0\n",
      "Max thresold: 8.0\n",
      "\n",
      "-------------------------\n",
      "Parch \n",
      "\n",
      "Min thresold: 0.0\n",
      "Max thresold: 5.0\n",
      "\n",
      "-------------------------\n",
      "Fare \n",
      "\n",
      "Min thresold: 0.0\n",
      "Max thresold: 512.3292\n",
      "\t Deleting row for Fare value: -90.0\n",
      "\n",
      "-------------------------\n"
     ]
    }
   ],
   "source": [
    "delete_outliers(df, 0.002, 0.998)"
   ]
  },
  {
   "cell_type": "markdown",
   "metadata": {},
   "source": [
    "Powyżej widzimy, dla jakich wartości poszczególnych zmiennych unsunięto całe rekordy w zbiorze."
   ]
  },
  {
   "cell_type": "markdown",
   "metadata": {},
   "source": [
    "### Brakujące wartości\n",
    "\n",
    "Teraz zajmiemy się brakującymi wartościami. Poniższa funkcja dla atrybutów numerycznych zastępuje brakujące wartości średnią. Dla innych atrybutów, jeśli liczba brakujących wartości przekracza podany parametrem procent wszystkich wierszy, to cała kolumna jest usuwana. W przeciwnym wypadku usuwane są tylko wiersze gdzie występują brakujące wartości."
   ]
  },
  {
   "cell_type": "code",
   "execution_count": 34,
   "metadata": {},
   "outputs": [
    {
     "name": "stdout",
     "output_type": "stream",
     "text": [
      "PassengerId      0\n",
      "Survived         0\n",
      "Pclass           0\n",
      "Name             0\n",
      "Sex              3\n",
      "Age            173\n",
      "SibSp            0\n",
      "Parch            0\n",
      "Ticket           0\n",
      "Fare             0\n",
      "Cabin          681\n",
      "Embarked         6\n",
      "dtype: int64 \n",
      "\n",
      "Replacing values with mean for column: Age\n",
      "Rows number before removal: 883\n",
      "Rows number after removal: 874\n",
      "Deleted columns: ['Cabin']\n",
      "PassengerId    0\n",
      "Survived       0\n",
      "Pclass         0\n",
      "Name           0\n",
      "Sex            0\n",
      "Age            0\n",
      "SibSp          0\n",
      "Parch          0\n",
      "Ticket         0\n",
      "Fare           0\n",
      "Embarked       0\n",
      "dtype: int64\n"
     ]
    }
   ],
   "source": [
    "def handle_missing_values(perc_for_drop, print_info=True):\n",
    "    \n",
    "    columns_to_drop = list()\n",
    "    columns_to_clear = list()\n",
    "    \n",
    "    for col in df:\n",
    "        if df[col].isnull().sum() > 0:\n",
    "            if is_numeric_dtype(df[col]):\n",
    "                df[col].fillna(df[col].mean(), inplace=True)\n",
    "                print('Replacing values with mean for column:', col)\n",
    "            else:\n",
    "                ratio = df[col].isnull().sum() / len(df)\n",
    "                if ratio*100 > perc_for_drop:\n",
    "                    columns_to_drop.append(col)\n",
    "                else:\n",
    "                    columns_to_clear.append(col)\n",
    "\n",
    "    print('Rows number before removal:', len(df))\n",
    "    df.drop(columns=columns_to_drop, inplace=True)\n",
    "    df.dropna(subset=columns_to_clear, inplace=True)\n",
    "    print('Rows number after removal:', len(df))\n",
    "    print('Deleted columns:', columns_to_drop)\n",
    "    \n",
    "print(df.isnull().sum(), '\\n')\n",
    "handle_missing_values(50)\n",
    "print(df.isnull().sum())"
   ]
  },
  {
   "cell_type": "markdown",
   "metadata": {},
   "source": [
    "Powyżej widać, że wartości brakujące zostały usunięte."
   ]
  },
  {
   "cell_type": "markdown",
   "metadata": {},
   "source": [
    "# Podsumowanie\n",
    "\n",
    "Udało się przeprowadzić następujące operacje w celu oczyszczenia zbioru danych:\n",
    "1. Usuwanie duplikatów\n",
    "2. Czyszczenie i zmiana typów danych dla kolumn z wartościami numerycznymi.\n",
    "3. Usuwanie błędnych wartości dla danych jakościowych.\n",
    "4. Usuwanie nieporządanych znaków z imion pasażerów\n",
    "5. Usuwanie kolumn zbędnych.\n",
    "6. Zamiana wartości numerycznych na nominalne\n",
    "7. Usuwanie wartości odstające\n",
    "8. Usuwanie brakujących wartości\n",
    "\n",
    "Oczyszczony zbiór zapisujemy w formacie csv."
   ]
  },
  {
   "cell_type": "code",
   "execution_count": 35,
   "metadata": {},
   "outputs": [],
   "source": [
    "df.to_csv('TitanicCleaned.tsv', sep='\\t')"
   ]
  }
 ],
 "metadata": {
  "kernelspec": {
   "display_name": "Python 3",
   "language": "python",
   "name": "python3"
  },
  "language_info": {
   "codemirror_mode": {
    "name": "ipython",
    "version": 3
   },
   "file_extension": ".py",
   "mimetype": "text/x-python",
   "name": "python",
   "nbconvert_exporter": "python",
   "pygments_lexer": "ipython3",
   "version": "3.7.2"
  }
 },
 "nbformat": 4,
 "nbformat_minor": 2
}
